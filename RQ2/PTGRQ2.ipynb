{
  "cells": [
    {
      "cell_type": "code",
      "execution_count": 2,
      "metadata": {
        "colab": {
          "base_uri": "https://localhost:8080/",
          "height": 1000
        },
        "id": "-qjOLBZSVoij",
        "outputId": "c78a5e15-e23d-45a9-ed57-6aebaffc514e"
      },
      "outputs": [
        {
          "ename": "ModuleNotFoundError",
          "evalue": "No module named 'google.colab'",
          "output_type": "error",
          "traceback": [
            "\u001b[0;31m---------------------------------------------------------------------------\u001b[0m",
            "\u001b[0;31mModuleNotFoundError\u001b[0m                       Traceback (most recent call last)",
            "\u001b[0;32m/tmp/ipykernel_20846/1094623971.py\u001b[0m in \u001b[0;36m<module>\u001b[0;34m\u001b[0m\n\u001b[1;32m      1\u001b[0m \u001b[0;32mimport\u001b[0m \u001b[0mpandas\u001b[0m \u001b[0;32mas\u001b[0m \u001b[0mpd\u001b[0m\u001b[0;34m\u001b[0m\u001b[0;34m\u001b[0m\u001b[0m\n\u001b[0;32m----> 2\u001b[0;31m \u001b[0;32mfrom\u001b[0m \u001b[0mgoogle\u001b[0m\u001b[0;34m.\u001b[0m\u001b[0mcolab\u001b[0m \u001b[0;32mimport\u001b[0m \u001b[0mfiles\u001b[0m\u001b[0;34m\u001b[0m\u001b[0;34m\u001b[0m\u001b[0m\n\u001b[0m\u001b[1;32m      3\u001b[0m \u001b[0muploaded\u001b[0m \u001b[0;34m=\u001b[0m \u001b[0mfiles\u001b[0m\u001b[0;34m.\u001b[0m\u001b[0mupload\u001b[0m\u001b[0;34m(\u001b[0m\u001b[0;34m)\u001b[0m\u001b[0;34m\u001b[0m\u001b[0;34m\u001b[0m\u001b[0m\n\u001b[1;32m      4\u001b[0m \u001b[0;31m# df = pd.read_csv('RQ2.csv')\u001b[0m\u001b[0;34m\u001b[0m\u001b[0;34m\u001b[0m\u001b[0;34m\u001b[0m\u001b[0m\n\u001b[1;32m      5\u001b[0m \u001b[0mdf\u001b[0m \u001b[0;34m=\u001b[0m \u001b[0mpd\u001b[0m\u001b[0;34m.\u001b[0m\u001b[0mread_csv\u001b[0m\u001b[0;34m(\u001b[0m\u001b[0;34m'merged_files.csv'\u001b[0m\u001b[0;34m)\u001b[0m\u001b[0;34m\u001b[0m\u001b[0;34m\u001b[0m\u001b[0m\n",
            "\u001b[0;31mModuleNotFoundError\u001b[0m: No module named 'google.colab'"
          ]
        }
      ],
      "source": [
        "import pandas as pd\n",
        "from google.colab import files\n",
        "uploaded = files.upload()\n",
        "df = pd.read_csv('RQ2.csv')\n",
        "df = df[df['colision'] == True]\n",
        "df = df.filter(items=['category', 'category_id'])\n",
        "objects = [\n",
        "    \"Electric Kettle\", \n",
        "    \"Measuring Cup\",\n",
        "    \"Kitchen Scale\",\n",
        "    \"Grinder\",\n",
        "    \"Filter Dripper\",\n",
        "    \"Paper Filter\",\n",
        "    \"Coffee Mug\",\n",
        "    \"Thermometer\",\n",
        "    \"Spoon\",\n",
        "    \"Bowl\",\n",
        "    \"Bottle\",\n",
        "    \"Left Hand\",\n",
        "    \"Right Hand\",\n",
        "    \"Half Paper Filter\",\n",
        "    \"quarter paper filter\",\n",
        "    \"tortilla\",\n",
        "    \"peanut butter\",\n",
        "    \"fruit jam\",\n",
        "    \"toothpick\",\n",
        "    \"butter knife\",\n",
        "    \"chopping board\",\n",
        "    \"dental floss\",      \n",
        "    \"Paper Towel\",\n",
        "    \"Plate\",\n",
        "    \"tortilla pieces\",\n",
        "    \"paper sheet\",\n",
        "]\n",
        "        \n",
        "category_id_list = df['category_id'].tolist()\n",
        "highest_category_number = max(category_id_list)\n",
        "category_id_list = [x - 1 for x in category_id_list]\n",
        "result_list = [ [0] * 104 for i in range(104)]\n",
        "df_result = pd.DataFrame()\n",
        "for i in range(0, len(category_id_list) - 1):\n",
        "    result_list[category_id_list[i]][category_id_list[i+1]] += 1\n",
        "for i in range(0, highest_category_number):\n",
        "    for j in range(0, highest_category_number):\n",
        "        if (i != j):\n",
        "            new_row = {\n",
        "                'From_AOI_Category_Id':  i + 1, \n",
        "                'From_AOI_Category': objects[i],\n",
        "                'To_AOI_Category_Id': j + 1,\n",
        "                'To_AOI_Category': objects[j], \n",
        "                'Frequency': result_list[i][j]}\n",
        "            df_result = df_result.append(new_row, ignore_index = True)\n",
        "df_result.to_csv('frequency_result.csv', index=False)\n",
        "\n",
        "# Graph Visualization\n",
        "df_result_filtered = df_result[df_result['Frequency'] > 0]\n",
        "df_result_filtered['Frequency'] = df_result_filtered['Frequency'].div(15)\n",
        "import networkx as nx\n",
        "import matplotlib.pyplot as plt\n",
        "G = nx.from_pandas_edgelist(\n",
        "    df_result_filtered,\n",
        "    source='From_AOI_Category',\n",
        "    target='To_AOI_Category',      \n",
        "    edge_attr=[\"Frequency\"],\n",
        ")\n",
        "d = dict(G.degree)\n",
        "scaled_degree = [d[1] * 0.1 for d in nx.degree(G)]\n",
        "nx.draw(G,pos=nx.shell_layout(G),\n",
        "        width=list(nx.get_edge_attributes(G, 'Frequency').values()),\n",
        "        # node_size=scaled_degree,\n",
        "        node_size=[v * 100 for v in d.values()],\n",
        "        node_color='yellow',\n",
        "        edge_color='cornflowerblue',\n",
        "        cmap='terrain',\n",
        "        with_labels=True,\n",
        "        )\n",
        "\n",
        "plt.show()\n"
      ]
    }
  ],
  "metadata": {
    "colab": {
      "provenance": []
    },
    "interpreter": {
      "hash": "916dbcbb3f70747c44a77c7bcd40155683ae19c65e1c03b4aa3499c5328201f1"
    },
    "kernelspec": {
      "display_name": "Python 3.8.10 64-bit",
      "name": "python3"
    },
    "language_info": {
      "codemirror_mode": {
        "name": "ipython",
        "version": 3
      },
      "file_extension": ".py",
      "mimetype": "text/x-python",
      "name": "python",
      "nbconvert_exporter": "python",
      "pygments_lexer": "ipython3",
      "version": "3.8.10"
    }
  },
  "nbformat": 4,
  "nbformat_minor": 0
}
